{
 "cells": [
  {
   "cell_type": "markdown",
   "id": "3187878e-42e8-40fd-96dd-f151c377cfaa",
   "metadata": {},
   "source": [
    "# Main Preprocessor\n",
    "This is main data preprocessor. The programm merges all the data. The assumption is that all the other data preprocessors were already executed."
   ]
  },
  {
   "cell_type": "markdown",
   "id": "4079e566-3ca9-4c3b-8d08-f0c8aa3bba69",
   "metadata": {},
   "source": [
    "### 1. Imports"
   ]
  },
  {
   "cell_type": "code",
   "execution_count": 2,
   "id": "0461efed-dd25-47d6-8dfd-e24ae6154219",
   "metadata": {},
   "outputs": [],
   "source": [
    "import pandas as pd"
   ]
  },
  {
   "cell_type": "markdown",
   "id": "782d78dc-c497-4923-ad7f-d76b14b92815",
   "metadata": {},
   "source": [
    "### 2. Main function"
   ]
  },
  {
   "cell_type": "code",
   "execution_count": 4,
   "id": "723cd123-c158-45a8-8974-46111c3b67d7",
   "metadata": {},
   "outputs": [],
   "source": [
    "def merge_all_data(shareprices_filename, roe_filename, eps_filename, ownrshp_filename, companies_filename, industries_filename, sectors_perf_filename):\n",
    "    shareprices_data = pd.read_csv(shareprices_filename)\n",
    "    print(f\"Number of rows for shareprices data: {len(shareprices_data)}\")\n",
    "    \n",
    "    roe = pd.read_csv(roe_filename)\n",
    "    print(f\"Number of rows for ROE data: {len(roe)}\")\n",
    "    result = shareprices_data.merge(roe, on=['Ticker', 'Year', 'Month'], how='inner')\n",
    "\n",
    "    ownership_growth = pd.read_csv(ownrshp_filename)\n",
    "    print(f\"Number of rows for ownership growth data: {len(ownership_growth)}\")\n",
    "    result = result.merge(ownership_growth, on=['Ticker', 'Year', 'Month'], how='inner')\n",
    "\n",
    "    eps_growth = pd.read_csv(eps_filename)\n",
    "    print(f\"Number of rows for EPS growth data: {len(eps_growth)}\")\n",
    "    result = result.merge(eps_growth, on=['Ticker', 'Year', 'Month'], how='inner')\n",
    "\n",
    "    us_companies = pd.read_csv(companies_filename, sep=';', encoding='utf-8-sig')\n",
    "    industries = pd.read_csv(industries_filename, sep=';', encoding='utf-8-sig')\n",
    "    us_companies = us_companies.merge(industries, on='IndustryId')\n",
    "    sectors_perf = pd.read_csv(sectors_perf_filename)\n",
    "    us_companies = us_companies.merge(sectors_perf, on='Sector', how='inner')\n",
    "\n",
    "    sectors_perf = sectors_perf[sectors_perf['Sector'] == 'SP500']\n",
    "    print(f\"Number of rows for Sectors Performance data: {len(sectors_perf)}\")\n",
    "    us_companies = us_companies.merge(sectors_perf, on=['Year', 'Month'], how='inner')\n",
    "\n",
    "    result = result.merge(us_companies, on=['Ticker', 'Year', 'Month'], how='inner')\n",
    "\n",
    "    result = result[[\n",
    "        'Ticker', 'Year', 'Month', 'MA Ratio', \"Return on Investment\", \n",
    "        'Return on Equity', 'Insider_growth', 'Institutional_growth', \n",
    "        'Forecast Growth', 'Avg 2Q Growth', 'Avg 2Q Surprise', \n",
    "        'YoY Growth', 'Performance_x', 'Performance_y']]\n",
    "\n",
    "    result = result.rename(columns={\n",
    "        'Return on Investment': 'Result',\n",
    "        'Return on Equity': 'ROE',\n",
    "        'Insider_growth': 'Insider Ownership Growth',\n",
    "        'Institutional_growth': 'Institutional Ownership Growth',\n",
    "        'Forecast Growth': 'Forecast EPS Growth',\n",
    "        'Avg 2Q Growth': 'Avg 2Q EPS Growth',\n",
    "        'Avg 2Q Surprise': 'Avg 2Q EPS Surprise',\n",
    "        'YoY Growth': 'YoY EPS Growth',\n",
    "        'Performance_x': 'Sector Performance',\n",
    "        'Performance_y': 'Market Performance'\n",
    "    })\n",
    "\n",
    "    result = result.dropna()\n",
    "    print(f\"Result number of rows: {len(result)}\")\n",
    "    return result"
   ]
  },
  {
   "cell_type": "markdown",
   "id": "f6a90276-169c-43d4-a172-de572bc310a7",
   "metadata": {},
   "source": [
    "### 3. Programm execution"
   ]
  },
  {
   "cell_type": "code",
   "execution_count": 5,
   "id": "ed1c6d06-6c98-4315-bb9b-f4b29d7a2bb9",
   "metadata": {},
   "outputs": [
    {
     "name": "stdout",
     "output_type": "stream",
     "text": [
      "Number of rows for shareprices data: 234306\n",
      "Number of rows for ROE data: 229519\n",
      "Number of rows for ownership growth data: 94044\n",
      "Number of rows for EPS growth data: 44208\n",
      "Number of rows for Sectors Performance data: 132\n",
      "Result number of rows: 16012\n"
     ]
    }
   ],
   "source": [
    "shareprices_filename = 'datasets/shareprices_data.csv'\n",
    "roe_filename = 'datasets/ROE.csv'\n",
    "eps_filename = 'datasets/EPS_growth_data.csv'\n",
    "ownrshp_filename = 'datasets/ownership_growth.csv'\n",
    "companies_filename = 'datasets/us-companies.csv'\n",
    "industries_filename = 'datasets/industries.csv'\n",
    "sectors_perf_filename = 'datasets/Sectors_2Months_performance.csv'\n",
    "\n",
    "output_filename = 'datasets/clean_stocks_data.csv'\n",
    "\n",
    "result = merge_all_data(shareprices_filename, roe_filename, eps_filename, ownrshp_filename, companies_filename, industries_filename, sectors_perf_filename)\n",
    "result.to_csv(output_filename)"
   ]
  },
  {
   "cell_type": "code",
   "execution_count": null,
   "id": "b3431ffe-20ae-4ba8-92c2-fcb26aa44a07",
   "metadata": {},
   "outputs": [],
   "source": []
  }
 ],
 "metadata": {
  "kernelspec": {
   "display_name": "Python 3 (ipykernel)",
   "language": "python",
   "name": "python3"
  },
  "language_info": {
   "codemirror_mode": {
    "name": "ipython",
    "version": 3
   },
   "file_extension": ".py",
   "mimetype": "text/x-python",
   "name": "python",
   "nbconvert_exporter": "python",
   "pygments_lexer": "ipython3",
   "version": "3.12.4"
  }
 },
 "nbformat": 4,
 "nbformat_minor": 5
}
