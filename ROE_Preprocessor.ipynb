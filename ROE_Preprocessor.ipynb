{
 "cells": [
  {
   "cell_type": "markdown",
   "id": "415ad6bc-3575-4249-9e92-d0bccf78a789",
   "metadata": {},
   "source": [
    "# ROE preprocessor\n",
    "The programm preprocesses US stocks income statements and balance sheets to calculate ROE. Then, the data about the most recent (publicly available, i.e., after the report date) ROE for each ticker for each month within the given range of years is saved to a CSV file. \n",
    "\n",
    "If the most recent Total Equity of a company is negative, the corresponding rows are not saved in order to avoid distorting the regression with misleading ROE values.\n",
    "\n",
    "The data was downloaded from https://app.simfin.com"
   ]
  },
  {
   "cell_type": "markdown",
   "id": "72b5fafe-8ac5-4387-970f-1732389c1905",
   "metadata": {},
   "source": [
    "### 1. Imports and helper functions"
   ]
  },
  {
   "cell_type": "code",
   "execution_count": 1,
   "id": "292beb2e-73c9-486b-967f-7339c8cb5f78",
   "metadata": {},
   "outputs": [],
   "source": [
    "import pandas as pd\n",
    "import numpy as np\n",
    "\n",
    "def precompute_ticker_data(data):\n",
    "    grouped = {ticker: df for ticker, df in data.groupby('Ticker')}\n",
    "    return grouped\n",
    "\n",
    "def get_latest_roe(ticker, date, grouped_data):    \n",
    "    ticker_data = grouped_data[ticker]\n",
    "    report_dates = ticker_data['Publish Date'].values\n",
    "    equities = ticker_data['Total Equity'].values\n",
    "    roes = ticker_data['Return on Equity'].values\n",
    "\n",
    "    # Data is in ascending order by the report date\n",
    "    i = 0\n",
    "    n = len(ticker_data) \n",
    "    while (i < n and report_dates[i] < date ):\n",
    "        i += 1\n",
    "        \n",
    "    if i == 0 or equities[i - 1] <= 0:\n",
    "        return np.nan\n",
    "\n",
    "    return roes[i - 1]\n"
   ]
  },
  {
   "cell_type": "markdown",
   "id": "e0644fa0-1120-4c5a-a103-932acc63ff8e",
   "metadata": {},
   "source": [
    "### 2. Main function"
   ]
  },
  {
   "cell_type": "code",
   "execution_count": 8,
   "id": "8ce515fe-4bb9-40cf-b47d-6eae7dee9596",
   "metadata": {},
   "outputs": [],
   "source": [
    "def calculate_roes(income_filename, balance_filename, start_year, end_year):\n",
    "    income_data = pd.read_csv(income_filename, sep=';', encoding='utf-8-sig')\n",
    "    balance_data = pd.read_csv(balance_filename, sep=';', encoding='utf-8-sig')\n",
    "    aapl_rows = income_data[income_data['Ticker'] == 'AAPL']\n",
    "    print(aapl_rows[['Publish Date', 'Net Income']])\n",
    "    \n",
    "    print(f\"Number of rows for income: {len(income_data)}\")\n",
    "    print(f\"Number of rows for balance: {len(balance_data)}\")\n",
    "    \n",
    "    merged_data = pd.merge(income_data, balance_data, on=['Ticker', 'Fiscal Year', 'Fiscal Period'], suffixes=('_income', '_balance'))\n",
    "    print(f\"Number of rows after merge: {len(merged_data)}\")\n",
    "\n",
    "    # Setting max of two report dates for the fiscal period as a ROE report date\n",
    "    merged_data['Publish Date'] = pd.to_datetime(merged_data[['Publish Date_income', 'Publish Date_balance']].max(axis=1))\n",
    "    merged_data['Return on Equity'] = merged_data['Net Income'] * 100 / merged_data['Total Equity']\n",
    "    aapl_rows = merged_data[merged_data['Ticker'] == 'AAPL']\n",
    "    print(aapl_rows[['Publish Date', 'Net Income', 'Total Equity', 'Return on Equity']])\n",
    "    # Creating dataset for every month for the given year period\n",
    "    all_months = pd.date_range(start=f'{start_year}-01-01', end=f'{end_year}-12-31', freq='MS')\n",
    "    tickers = merged_data['Ticker'].unique()\n",
    "    index = pd.MultiIndex.from_product([tickers, all_months], names=['Ticker', 'Date'])\n",
    "    monthly_data = pd.DataFrame(index=index).reset_index()\n",
    "    \n",
    "    monthly_data['Year'] = monthly_data['Date'].dt.year\n",
    "    monthly_data['Month'] = monthly_data['Date'].dt.month\n",
    "    \n",
    "    grouped_data = precompute_ticker_data(merged_data) # Grouping data for every ticker in a dictionary, so searching for a ticker is faster\n",
    "    monthly_data['Return on Equity'] = monthly_data.apply(lambda row: get_latest_roe(row['Ticker'], row['Date'], grouped_data), axis=1)\n",
    "\n",
    "    monthly_data = monthly_data.dropna()\n",
    "    print(f\"Final number of rows: {len(monthly_data)}\")\n",
    "    \n",
    "    return monthly_data[['Ticker', 'Year', 'Month', 'Return on Equity']]"
   ]
  },
  {
   "cell_type": "markdown",
   "id": "fc9f8884-2bfd-442e-a9f2-75312471d358",
   "metadata": {},
   "source": [
    "### 3. Data and programm execution"
   ]
  },
  {
   "cell_type": "code",
   "execution_count": 9,
   "id": "b9ad6dde-fb2f-4064-bcbc-9a49edd5204c",
   "metadata": {},
   "outputs": [
    {
     "name": "stdout",
     "output_type": "stream",
     "text": [
      "    Publish Date    Net Income\n",
      "144   2018-11-05   59531000000\n",
      "145   2019-01-30   59431000000\n",
      "146   2019-05-01   57170000000\n",
      "147   2019-07-31   55695000000\n",
      "148   2019-10-31   55256000000\n",
      "149   2020-01-29   57527000000\n",
      "150   2020-05-01   57215000000\n",
      "151   2020-07-31   58424000000\n",
      "152   2020-10-30   57411000000\n",
      "153   2021-01-28   63930000000\n",
      "154   2021-04-29   76311000000\n",
      "155   2021-07-28   86802000000\n",
      "156   2021-10-29   94680000000\n",
      "157   2022-01-28  100555000000\n",
      "158   2022-04-29  101935000000\n",
      "159   2022-07-29   99633000000\n",
      "160   2022-10-28   99803000000\n",
      "161   2023-02-03   95171000000\n",
      "162   2023-05-05   94321000000\n",
      "163   2023-08-04   94760000000\n",
      "Number of rows for income: 60217\n",
      "Number of rows for balance: 60214\n",
      "Number of rows after merge: 60205\n",
      "    Publish Date    Net Income  Total Equity  Return on Equity\n",
      "144   2018-11-05   59531000000  107147000000         55.560118\n",
      "145   2019-01-30   59431000000  117892000000         50.411393\n",
      "146   2019-05-01   57170000000  105860000000         54.005290\n",
      "147   2019-07-31   55695000000   96456000000         57.741354\n",
      "148   2019-10-31   55256000000   90488000000         61.064451\n",
      "149   2020-01-29   57527000000   89531000000         64.253722\n",
      "150   2020-05-01   57215000000   78425000000         72.955053\n",
      "151   2020-07-31   58424000000   72282000000         80.827869\n",
      "152   2020-10-30   57411000000   65339000000         87.866359\n",
      "153   2021-01-28   63930000000   66224000000         96.535999\n",
      "154   2021-04-29   76311000000   69178000000        110.311082\n",
      "155   2021-07-28   86802000000   64280000000        135.037337\n",
      "156   2021-10-29   94680000000   63090000000        150.071327\n",
      "157   2022-01-28  100555000000   71932000000        139.791748\n",
      "158   2022-04-29  101935000000   67399000000        151.241116\n",
      "159   2022-07-29   99633000000   58107000000        171.464712\n",
      "160   2022-10-28   99803000000   50672000000        196.958873\n",
      "161   2023-02-03   95171000000   56727000000        167.770198\n",
      "162   2023-05-05   94321000000   62158000000        151.743943\n",
      "163   2023-08-04   94760000000   60274000000        157.215383\n",
      "Final number of rows: 229519\n"
     ]
    }
   ],
   "source": [
    "income_filename = 'datasets/us-income-ttm.csv'\n",
    "balance_filename = 'datasets/us-balance-ttm.csv'\n",
    "start_year = 2017\n",
    "end_year = 2024\n",
    "output_filename = 'datasets/ROE.csv'\n",
    "\n",
    "roes_data = calculate_roes(income_filename, balance_filename, start_year, end_year)\n",
    "roes_data.to_csv(output_filename, index=False)"
   ]
  },
  {
   "cell_type": "code",
   "execution_count": null,
   "id": "901b5a4b-49ad-4e4e-86c6-2db986ec9fc5",
   "metadata": {},
   "outputs": [],
   "source": []
  }
 ],
 "metadata": {
  "kernelspec": {
   "display_name": "Python 3 (ipykernel)",
   "language": "python",
   "name": "python3"
  },
  "language_info": {
   "codemirror_mode": {
    "name": "ipython",
    "version": 3
   },
   "file_extension": ".py",
   "mimetype": "text/x-python",
   "name": "python",
   "nbconvert_exporter": "python",
   "pygments_lexer": "ipython3",
   "version": "3.12.4"
  }
 },
 "nbformat": 4,
 "nbformat_minor": 5
}
