{
 "cells": [
  {
   "cell_type": "markdown",
   "id": "0a28ba98-0d10-4f41-81b8-a519b7f644c9",
   "metadata": {},
   "source": [
    "# EPS scraper\n",
    "The script below scrapes historical EPS data for stocks from yahoo finance. \n",
    "\n",
    "## Saved data format\n",
    "The data is saved in EPS.csv file. The columns are as follows: Ticker, Earnings anouncment date, EPS estimated, EPS reported, Surprise (%)"
   ]
  },
  {
   "cell_type": "markdown",
   "id": "b8045755-f7e3-4654-b7e9-f77ea8935dcc",
   "metadata": {},
   "source": [
    "### 1. Tickers\n",
    "List of SP500 tickers is fetched from Wikipedia"
   ]
  },
  {
   "cell_type": "code",
   "execution_count": 4,
   "id": "82461671-cbc3-4201-ad65-6efbda166c71",
   "metadata": {},
   "outputs": [],
   "source": [
    "import pandas as pd\n",
    "tickers = pd.read_html(\n",
    "    'https://en.wikipedia.org/wiki/List_of_S%26P_500_companies')[0]\n",
    "symbols = tickers.Symbol"
   ]
  },
  {
   "cell_type": "markdown",
   "id": "9603c7ba-6f71-4b71-b911-f2b033123a61",
   "metadata": {},
   "source": [
    "### 2. Imports and helper function"
   ]
  },
  {
   "cell_type": "code",
   "execution_count": 5,
   "id": "af1e5cb1-0715-4739-9717-ec2a187ea283",
   "metadata": {},
   "outputs": [],
   "source": [
    "import requests\n",
    "import time\n",
    "from webdriver_manager.chrome import ChromeDriverManager\n",
    "from selenium import webdriver\n",
    "from selenium.webdriver.chrome.service import Service\n",
    "from selenium.webdriver.chrome.options import Options\n",
    "from selenium.webdriver.common.by import By\n",
    "from selenium.webdriver.support.ui import WebDriverWait\n",
    "from selenium.webdriver.support import expected_conditions as EC\n",
    "import csv\n",
    "\n",
    "service = Service(ChromeDriverManager().install())\n",
    "\n",
    "def save_to_csv(data, filename):\n",
    "    keys = data[0].keys() if data else []\n",
    "    with open(filename, 'w', newline='', encoding='utf-8') as output_file:\n",
    "        dict_writer = csv.DictWriter(output_file, fieldnames=keys)\n",
    "        dict_writer.writeheader()\n",
    "        dict_writer.writerows(data)"
   ]
  },
  {
   "cell_type": "markdown",
   "id": "7fe77ad9-64ac-459a-b47c-2c29cde87221",
   "metadata": {},
   "source": [
    "### 3. Run Chrome"
   ]
  },
  {
   "cell_type": "code",
   "execution_count": 13,
   "id": "5605b7c5-b181-4e5a-93bd-e849b7657eb6",
   "metadata": {},
   "outputs": [],
   "source": [
    "chrome_options = Options()\n",
    "chrome_options.add_argument(\"--disable-search-engine-choice-screen\")\n",
    "chrome_options.add_argument(\"--headless\")\n",
    "driver = webdriver.Chrome(service=service, options=chrome_options)"
   ]
  },
  {
   "cell_type": "markdown",
   "id": "89d434ce-c2e4-4d27-8d0e-c922970dda3c",
   "metadata": {},
   "source": [
    "### 4. Main function"
   ]
  },
  {
   "cell_type": "code",
   "execution_count": 7,
   "id": "c4efa917-c34f-4838-9dc9-7826ba3235f9",
   "metadata": {},
   "outputs": [],
   "source": [
    "def scrape_EPS(symbol, isFirst):\n",
    "    data = []\n",
    "    driver.get(f\"https://finance.yahoo.com/calendar/earnings?symbol={symbol}\")\n",
    "    \n",
    "    if (isFirst): #Accept cookies if it's first visit\n",
    "        accept_button = WebDriverWait(driver, 10).until(\n",
    "            EC.element_to_be_clickable((By.XPATH, \"//button[contains(text(), 'Accept')]\"))\n",
    "        )\n",
    "        accept_button.click()\n",
    "\n",
    "    time.sleep(4)\n",
    "    \n",
    "    earnings_date_elements = driver.find_elements(By.XPATH, '//td[@aria-label=\"Earnings Date\"]')\n",
    "    eps_estimate_elements = driver.find_elements(By.XPATH, '//td[@aria-label=\"EPS Estimate\"]')\n",
    "    eps_reported_elements = driver.find_elements(By.XPATH, '//td[@aria-label=\"Reported EPS\"]')\n",
    "    eps_surprise_elements = driver.find_elements(By.XPATH, '//td[@aria-label=\"Surprise(%)\"]')\n",
    "    \n",
    "    for i, element in enumerate(earnings_date_elements):\n",
    "        try:\n",
    "            span = element.find_element(By.TAG_NAME, 'span')\n",
    "            earnings_date = span.text.strip()\n",
    "            eps_estimate = eps_estimate_elements[i].text\n",
    "            eps_reported = eps_reported_elements[i].text\n",
    "            eps_surprise = eps_surprise_elements[i].text\n",
    "\n",
    "            data.append({\n",
    "                'symbol': symbol, \n",
    "                'earnings_date': earnings_date, \n",
    "                'eps_estimate': eps_estimate, \n",
    "                'eps_reported': eps_reported,\n",
    "                'eps_surprise': eps_surprise\n",
    "            })\n",
    "        except:\n",
    "            print(f\"Scraping data for row {i} has failed.\")\n",
    "    return data"
   ]
  },
  {
   "cell_type": "markdown",
   "id": "1e02cef6-0037-41d0-8720-45025d172b67",
   "metadata": {},
   "source": [
    "### 5. Programm execution"
   ]
  },
  {
   "cell_type": "code",
   "execution_count": null,
   "id": "8ca013a1-a762-4bd4-88c7-0e8fd73a256a",
   "metadata": {},
   "outputs": [],
   "source": [
    "all_eps_data = []\n",
    "\n",
    "isFirst = True\n",
    "for symbol in symbols:\n",
    "    symbol_data = scrape_EPS(symbol, isFirst)\n",
    "    all_eps_data.extend(symbol_data)\n",
    "    isFirst = False\n",
    "    time.sleep(5)\n",
    "\n",
    "save_to_csv(all_eps_data, f\"datasets/EPS.csv\")"
   ]
  }
 ],
 "metadata": {
  "kernelspec": {
   "display_name": "Python 3 (ipykernel)",
   "language": "python",
   "name": "python3"
  },
  "language_info": {
   "codemirror_mode": {
    "name": "ipython",
    "version": 3
   },
   "file_extension": ".py",
   "mimetype": "text/x-python",
   "name": "python",
   "nbconvert_exporter": "python",
   "pygments_lexer": "ipython3",
   "version": "3.12.4"
  }
 },
 "nbformat": 4,
 "nbformat_minor": 5
}
