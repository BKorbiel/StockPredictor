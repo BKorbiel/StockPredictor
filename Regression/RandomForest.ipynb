{
 "cells": [
  {
   "cell_type": "markdown",
   "id": "354aaa75-07c9-47d3-82a8-3cad30715ee8",
   "metadata": {},
   "source": [
    "# Random Forest Regression\n",
    "This program runs random forest regression to attempt to predict stock prices after the next three months."
   ]
  },
  {
   "cell_type": "markdown",
   "id": "2ec9e7f4-45ff-437f-ab74-7590cf65bd15",
   "metadata": {},
   "source": [
    "### 1. Imports"
   ]
  },
  {
   "cell_type": "code",
   "execution_count": 4,
   "id": "5199aa5e-fd0b-42a0-a80e-9ad3594b24d8",
   "metadata": {},
   "outputs": [],
   "source": [
    "import numpy as np\n",
    "import pandas as pd\n",
    "import statsmodels.api as sm\n",
    "import matplotlib.pyplot as plt\n",
    "import seaborn as sns\n",
    "from sklearn.ensemble import RandomForestRegressor\n",
    "from sklearn.model_selection import train_test_split\n",
    "from sklearn.metrics import mean_squared_error, r2_score\n",
    "from sklearn.preprocessing import StandardScaler\n",
    "import numpy as np\n",
    "sns.set()"
   ]
  },
  {
   "cell_type": "markdown",
   "id": "a21b23e6-0742-45d2-b047-727c0aa58b6f",
   "metadata": {},
   "source": [
    "### 2. Load the data"
   ]
  },
  {
   "cell_type": "code",
   "execution_count": 5,
   "id": "15a83f87-e355-446c-ab5d-7db5816d0018",
   "metadata": {},
   "outputs": [
    {
     "data": {
      "text/html": [
       "<div>\n",
       "<style scoped>\n",
       "    .dataframe tbody tr th:only-of-type {\n",
       "        vertical-align: middle;\n",
       "    }\n",
       "\n",
       "    .dataframe tbody tr th {\n",
       "        vertical-align: top;\n",
       "    }\n",
       "\n",
       "    .dataframe thead th {\n",
       "        text-align: right;\n",
       "    }\n",
       "</style>\n",
       "<table border=\"1\" class=\"dataframe\">\n",
       "  <thead>\n",
       "    <tr style=\"text-align: right;\">\n",
       "      <th></th>\n",
       "      <th>Unnamed: 0</th>\n",
       "      <th>Ticker</th>\n",
       "      <th>Year</th>\n",
       "      <th>Month</th>\n",
       "      <th>MA Ratio</th>\n",
       "      <th>Result</th>\n",
       "      <th>ROE</th>\n",
       "      <th>Insider Ownership Growth</th>\n",
       "      <th>Institutional Ownership Growth</th>\n",
       "      <th>Forecast EPS Growth</th>\n",
       "      <th>Avg 2Q EPS Growth</th>\n",
       "      <th>Avg 2Q EPS Surprise</th>\n",
       "      <th>YoY EPS Growth</th>\n",
       "      <th>Sector Performance</th>\n",
       "      <th>Market Performance</th>\n",
       "    </tr>\n",
       "  </thead>\n",
       "  <tbody>\n",
       "    <tr>\n",
       "      <th>count</th>\n",
       "      <td>14854.000000</td>\n",
       "      <td>14854</td>\n",
       "      <td>14854.000000</td>\n",
       "      <td>14854.000000</td>\n",
       "      <td>14854.000000</td>\n",
       "      <td>14854.000000</td>\n",
       "      <td>14854.000000</td>\n",
       "      <td>14854.000000</td>\n",
       "      <td>14854.000000</td>\n",
       "      <td>14854.000000</td>\n",
       "      <td>14854.000000</td>\n",
       "      <td>14854.000000</td>\n",
       "      <td>14854.000000</td>\n",
       "      <td>14854.000000</td>\n",
       "      <td>14854.000000</td>\n",
       "    </tr>\n",
       "    <tr>\n",
       "      <th>unique</th>\n",
       "      <td>NaN</td>\n",
       "      <td>393</td>\n",
       "      <td>NaN</td>\n",
       "      <td>NaN</td>\n",
       "      <td>NaN</td>\n",
       "      <td>NaN</td>\n",
       "      <td>NaN</td>\n",
       "      <td>NaN</td>\n",
       "      <td>NaN</td>\n",
       "      <td>NaN</td>\n",
       "      <td>NaN</td>\n",
       "      <td>NaN</td>\n",
       "      <td>NaN</td>\n",
       "      <td>NaN</td>\n",
       "      <td>NaN</td>\n",
       "    </tr>\n",
       "    <tr>\n",
       "      <th>top</th>\n",
       "      <td>NaN</td>\n",
       "      <td>AWK</td>\n",
       "      <td>NaN</td>\n",
       "      <td>NaN</td>\n",
       "      <td>NaN</td>\n",
       "      <td>NaN</td>\n",
       "      <td>NaN</td>\n",
       "      <td>NaN</td>\n",
       "      <td>NaN</td>\n",
       "      <td>NaN</td>\n",
       "      <td>NaN</td>\n",
       "      <td>NaN</td>\n",
       "      <td>NaN</td>\n",
       "      <td>NaN</td>\n",
       "      <td>NaN</td>\n",
       "    </tr>\n",
       "    <tr>\n",
       "      <th>freq</th>\n",
       "      <td>NaN</td>\n",
       "      <td>55</td>\n",
       "      <td>NaN</td>\n",
       "      <td>NaN</td>\n",
       "      <td>NaN</td>\n",
       "      <td>NaN</td>\n",
       "      <td>NaN</td>\n",
       "      <td>NaN</td>\n",
       "      <td>NaN</td>\n",
       "      <td>NaN</td>\n",
       "      <td>NaN</td>\n",
       "      <td>NaN</td>\n",
       "      <td>NaN</td>\n",
       "      <td>NaN</td>\n",
       "      <td>NaN</td>\n",
       "    </tr>\n",
       "    <tr>\n",
       "      <th>mean</th>\n",
       "      <td>7426.500000</td>\n",
       "      <td>NaN</td>\n",
       "      <td>2020.669113</td>\n",
       "      <td>6.223240</td>\n",
       "      <td>1.004148</td>\n",
       "      <td>1.032817</td>\n",
       "      <td>39.494365</td>\n",
       "      <td>0.015486</td>\n",
       "      <td>0.026708</td>\n",
       "      <td>0.057775</td>\n",
       "      <td>0.181477</td>\n",
       "      <td>13.755183</td>\n",
       "      <td>0.369529</td>\n",
       "      <td>1.488003</td>\n",
       "      <td>1.438443</td>\n",
       "    </tr>\n",
       "    <tr>\n",
       "      <th>std</th>\n",
       "      <td>4288.124784</td>\n",
       "      <td>NaN</td>\n",
       "      <td>1.428016</td>\n",
       "      <td>3.520757</td>\n",
       "      <td>0.046473</td>\n",
       "      <td>0.149260</td>\n",
       "      <td>181.839873</td>\n",
       "      <td>0.269863</td>\n",
       "      <td>0.230675</td>\n",
       "      <td>2.136724</td>\n",
       "      <td>2.111809</td>\n",
       "      <td>46.751483</td>\n",
       "      <td>3.637998</td>\n",
       "      <td>8.164589</td>\n",
       "      <td>7.038394</td>\n",
       "    </tr>\n",
       "    <tr>\n",
       "      <th>min</th>\n",
       "      <td>0.000000</td>\n",
       "      <td>NaN</td>\n",
       "      <td>2018.000000</td>\n",
       "      <td>1.000000</td>\n",
       "      <td>0.580721</td>\n",
       "      <td>0.259712</td>\n",
       "      <td>-613.743387</td>\n",
       "      <td>-0.633527</td>\n",
       "      <td>-0.714136</td>\n",
       "      <td>-0.992366</td>\n",
       "      <td>-45.050000</td>\n",
       "      <td>-65.625000</td>\n",
       "      <td>-0.961538</td>\n",
       "      <td>-44.900728</td>\n",
       "      <td>-22.795349</td>\n",
       "    </tr>\n",
       "    <tr>\n",
       "      <th>25%</th>\n",
       "      <td>3713.250000</td>\n",
       "      <td>NaN</td>\n",
       "      <td>2019.000000</td>\n",
       "      <td>3.000000</td>\n",
       "      <td>0.977766</td>\n",
       "      <td>0.944153</td>\n",
       "      <td>10.160854</td>\n",
       "      <td>-0.001350</td>\n",
       "      <td>-0.023114</td>\n",
       "      <td>-0.184264</td>\n",
       "      <td>-0.040838</td>\n",
       "      <td>2.015000</td>\n",
       "      <td>0.017606</td>\n",
       "      <td>-3.453784</td>\n",
       "      <td>-3.160007</td>\n",
       "    </tr>\n",
       "    <tr>\n",
       "      <th>50%</th>\n",
       "      <td>7426.500000</td>\n",
       "      <td>NaN</td>\n",
       "      <td>2021.000000</td>\n",
       "      <td>6.000000</td>\n",
       "      <td>1.005360</td>\n",
       "      <td>1.028547</td>\n",
       "      <td>19.251991</td>\n",
       "      <td>0.000000</td>\n",
       "      <td>-0.000648</td>\n",
       "      <td>-0.039062</td>\n",
       "      <td>0.045662</td>\n",
       "      <td>6.055000</td>\n",
       "      <td>0.130688</td>\n",
       "      <td>1.496227</td>\n",
       "      <td>2.069271</td>\n",
       "    </tr>\n",
       "    <tr>\n",
       "      <th>75%</th>\n",
       "      <td>11139.750000</td>\n",
       "      <td>NaN</td>\n",
       "      <td>2022.000000</td>\n",
       "      <td>9.000000</td>\n",
       "      <td>1.031953</td>\n",
       "      <td>1.113949</td>\n",
       "      <td>31.949569</td>\n",
       "      <td>0.008000</td>\n",
       "      <td>0.033653</td>\n",
       "      <td>0.086957</td>\n",
       "      <td>0.154182</td>\n",
       "      <td>13.135000</td>\n",
       "      <td>0.275148</td>\n",
       "      <td>6.429508</td>\n",
       "      <td>5.507430</td>\n",
       "    </tr>\n",
       "    <tr>\n",
       "      <th>max</th>\n",
       "      <td>14853.000000</td>\n",
       "      <td>NaN</td>\n",
       "      <td>2023.000000</td>\n",
       "      <td>12.000000</td>\n",
       "      <td>1.335656</td>\n",
       "      <td>3.142137</td>\n",
       "      <td>11300.330487</td>\n",
       "      <td>17.759731</td>\n",
       "      <td>14.203540</td>\n",
       "      <td>133.000000</td>\n",
       "      <td>78.553797</td>\n",
       "      <td>1493.215000</td>\n",
       "      <td>192.000000</td>\n",
       "      <td>31.971220</td>\n",
       "      <td>21.644623</td>\n",
       "    </tr>\n",
       "  </tbody>\n",
       "</table>\n",
       "</div>"
      ],
      "text/plain": [
       "          Unnamed: 0 Ticker          Year         Month      MA Ratio  \\\n",
       "count   14854.000000  14854  14854.000000  14854.000000  14854.000000   \n",
       "unique           NaN    393           NaN           NaN           NaN   \n",
       "top              NaN    AWK           NaN           NaN           NaN   \n",
       "freq             NaN     55           NaN           NaN           NaN   \n",
       "mean     7426.500000    NaN   2020.669113      6.223240      1.004148   \n",
       "std      4288.124784    NaN      1.428016      3.520757      0.046473   \n",
       "min         0.000000    NaN   2018.000000      1.000000      0.580721   \n",
       "25%      3713.250000    NaN   2019.000000      3.000000      0.977766   \n",
       "50%      7426.500000    NaN   2021.000000      6.000000      1.005360   \n",
       "75%     11139.750000    NaN   2022.000000      9.000000      1.031953   \n",
       "max     14853.000000    NaN   2023.000000     12.000000      1.335656   \n",
       "\n",
       "              Result           ROE  Insider Ownership Growth  \\\n",
       "count   14854.000000  14854.000000              14854.000000   \n",
       "unique           NaN           NaN                       NaN   \n",
       "top              NaN           NaN                       NaN   \n",
       "freq             NaN           NaN                       NaN   \n",
       "mean        1.032817     39.494365                  0.015486   \n",
       "std         0.149260    181.839873                  0.269863   \n",
       "min         0.259712   -613.743387                 -0.633527   \n",
       "25%         0.944153     10.160854                 -0.001350   \n",
       "50%         1.028547     19.251991                  0.000000   \n",
       "75%         1.113949     31.949569                  0.008000   \n",
       "max         3.142137  11300.330487                 17.759731   \n",
       "\n",
       "        Institutional Ownership Growth  Forecast EPS Growth  \\\n",
       "count                     14854.000000         14854.000000   \n",
       "unique                             NaN                  NaN   \n",
       "top                                NaN                  NaN   \n",
       "freq                               NaN                  NaN   \n",
       "mean                          0.026708             0.057775   \n",
       "std                           0.230675             2.136724   \n",
       "min                          -0.714136            -0.992366   \n",
       "25%                          -0.023114            -0.184264   \n",
       "50%                          -0.000648            -0.039062   \n",
       "75%                           0.033653             0.086957   \n",
       "max                          14.203540           133.000000   \n",
       "\n",
       "        Avg 2Q EPS Growth  Avg 2Q EPS Surprise  YoY EPS Growth  \\\n",
       "count        14854.000000         14854.000000    14854.000000   \n",
       "unique                NaN                  NaN             NaN   \n",
       "top                   NaN                  NaN             NaN   \n",
       "freq                  NaN                  NaN             NaN   \n",
       "mean             0.181477            13.755183        0.369529   \n",
       "std              2.111809            46.751483        3.637998   \n",
       "min            -45.050000           -65.625000       -0.961538   \n",
       "25%             -0.040838             2.015000        0.017606   \n",
       "50%              0.045662             6.055000        0.130688   \n",
       "75%              0.154182            13.135000        0.275148   \n",
       "max             78.553797          1493.215000      192.000000   \n",
       "\n",
       "        Sector Performance  Market Performance  \n",
       "count         14854.000000        14854.000000  \n",
       "unique                 NaN                 NaN  \n",
       "top                    NaN                 NaN  \n",
       "freq                   NaN                 NaN  \n",
       "mean              1.488003            1.438443  \n",
       "std               8.164589            7.038394  \n",
       "min             -44.900728          -22.795349  \n",
       "25%              -3.453784           -3.160007  \n",
       "50%               1.496227            2.069271  \n",
       "75%               6.429508            5.507430  \n",
       "max              31.971220           21.644623  "
      ]
     },
     "execution_count": 5,
     "metadata": {},
     "output_type": "execute_result"
    }
   ],
   "source": [
    "data = pd.read_csv('../datasets/stocks_data.csv')\n",
    "data.describe(include='all')"
   ]
  },
  {
   "cell_type": "markdown",
   "id": "713bcdc2-6189-4a96-9cce-5a9a79b569ef",
   "metadata": {},
   "source": [
    "### 3. Clean the data\n",
    "Let's drop unnecessary columns"
   ]
  },
  {
   "cell_type": "code",
   "execution_count": 6,
   "id": "06b7561f-bc0b-4eff-810d-7d6dc3f4aa02",
   "metadata": {},
   "outputs": [
    {
     "data": {
      "text/html": [
       "<div>\n",
       "<style scoped>\n",
       "    .dataframe tbody tr th:only-of-type {\n",
       "        vertical-align: middle;\n",
       "    }\n",
       "\n",
       "    .dataframe tbody tr th {\n",
       "        vertical-align: top;\n",
       "    }\n",
       "\n",
       "    .dataframe thead th {\n",
       "        text-align: right;\n",
       "    }\n",
       "</style>\n",
       "<table border=\"1\" class=\"dataframe\">\n",
       "  <thead>\n",
       "    <tr style=\"text-align: right;\">\n",
       "      <th></th>\n",
       "      <th>MA Ratio</th>\n",
       "      <th>Result</th>\n",
       "      <th>ROE</th>\n",
       "      <th>Insider Ownership Growth</th>\n",
       "      <th>Institutional Ownership Growth</th>\n",
       "      <th>Forecast EPS Growth</th>\n",
       "      <th>Avg 2Q EPS Growth</th>\n",
       "      <th>Avg 2Q EPS Surprise</th>\n",
       "      <th>YoY EPS Growth</th>\n",
       "      <th>Sector Performance</th>\n",
       "      <th>Market Performance</th>\n",
       "    </tr>\n",
       "  </thead>\n",
       "  <tbody>\n",
       "    <tr>\n",
       "      <th>0</th>\n",
       "      <td>0.961995</td>\n",
       "      <td>1.223647</td>\n",
       "      <td>6.913148</td>\n",
       "      <td>0.100796</td>\n",
       "      <td>-0.004951</td>\n",
       "      <td>-0.098765</td>\n",
       "      <td>0.119862</td>\n",
       "      <td>8.440</td>\n",
       "      <td>0.177215</td>\n",
       "      <td>-3.656652</td>\n",
       "      <td>-8.854201</td>\n",
       "    </tr>\n",
       "    <tr>\n",
       "      <th>1</th>\n",
       "      <td>1.066554</td>\n",
       "      <td>1.034318</td>\n",
       "      <td>6.913148</td>\n",
       "      <td>0.095491</td>\n",
       "      <td>0.023857</td>\n",
       "      <td>-0.098765</td>\n",
       "      <td>0.119862</td>\n",
       "      <td>8.440</td>\n",
       "      <td>0.177215</td>\n",
       "      <td>-4.861458</td>\n",
       "      <td>-3.160007</td>\n",
       "    </tr>\n",
       "    <tr>\n",
       "      <th>2</th>\n",
       "      <td>1.046990</td>\n",
       "      <td>0.826977</td>\n",
       "      <td>6.913148</td>\n",
       "      <td>-0.012048</td>\n",
       "      <td>0.025465</td>\n",
       "      <td>-0.052632</td>\n",
       "      <td>0.073613</td>\n",
       "      <td>7.045</td>\n",
       "      <td>0.156000</td>\n",
       "      <td>7.205480</td>\n",
       "      <td>12.969931</td>\n",
       "    </tr>\n",
       "    <tr>\n",
       "      <th>3</th>\n",
       "      <td>1.020680</td>\n",
       "      <td>0.915522</td>\n",
       "      <td>22.637014</td>\n",
       "      <td>0.000000</td>\n",
       "      <td>0.117718</td>\n",
       "      <td>-0.052632</td>\n",
       "      <td>0.073613</td>\n",
       "      <td>7.045</td>\n",
       "      <td>0.156000</td>\n",
       "      <td>1.791749</td>\n",
       "      <td>5.414237</td>\n",
       "    </tr>\n",
       "    <tr>\n",
       "      <th>4</th>\n",
       "      <td>0.983734</td>\n",
       "      <td>0.897937</td>\n",
       "      <td>22.637014</td>\n",
       "      <td>0.007317</td>\n",
       "      <td>0.121825</td>\n",
       "      <td>-0.052632</td>\n",
       "      <td>0.073613</td>\n",
       "      <td>7.045</td>\n",
       "      <td>0.156000</td>\n",
       "      <td>-2.805357</td>\n",
       "      <td>5.507430</td>\n",
       "    </tr>\n",
       "    <tr>\n",
       "      <th>...</th>\n",
       "      <td>...</td>\n",
       "      <td>...</td>\n",
       "      <td>...</td>\n",
       "      <td>...</td>\n",
       "      <td>...</td>\n",
       "      <td>...</td>\n",
       "      <td>...</td>\n",
       "      <td>...</td>\n",
       "      <td>...</td>\n",
       "      <td>...</td>\n",
       "      <td>...</td>\n",
       "    </tr>\n",
       "    <tr>\n",
       "      <th>14849</th>\n",
       "      <td>0.988689</td>\n",
       "      <td>1.136043</td>\n",
       "      <td>44.337194</td>\n",
       "      <td>0.015625</td>\n",
       "      <td>0.004154</td>\n",
       "      <td>-0.132231</td>\n",
       "      <td>-0.041288</td>\n",
       "      <td>-1.785</td>\n",
       "      <td>0.026030</td>\n",
       "      <td>2.515130</td>\n",
       "      <td>-1.243019</td>\n",
       "    </tr>\n",
       "    <tr>\n",
       "      <th>14850</th>\n",
       "      <td>1.050920</td>\n",
       "      <td>1.049746</td>\n",
       "      <td>44.337194</td>\n",
       "      <td>0.000000</td>\n",
       "      <td>-0.128752</td>\n",
       "      <td>-0.132231</td>\n",
       "      <td>-0.041288</td>\n",
       "      <td>-1.785</td>\n",
       "      <td>0.026030</td>\n",
       "      <td>-4.031062</td>\n",
       "      <td>-0.417651</td>\n",
       "    </tr>\n",
       "    <tr>\n",
       "      <th>14851</th>\n",
       "      <td>1.001497</td>\n",
       "      <td>0.974880</td>\n",
       "      <td>48.012719</td>\n",
       "      <td>0.046154</td>\n",
       "      <td>-0.187616</td>\n",
       "      <td>0.095652</td>\n",
       "      <td>-0.020627</td>\n",
       "      <td>3.915</td>\n",
       "      <td>0.038298</td>\n",
       "      <td>-6.645055</td>\n",
       "      <td>2.856001</td>\n",
       "    </tr>\n",
       "    <tr>\n",
       "      <th>14852</th>\n",
       "      <td>1.016859</td>\n",
       "      <td>1.029403</td>\n",
       "      <td>48.012719</td>\n",
       "      <td>0.046154</td>\n",
       "      <td>-0.080948</td>\n",
       "      <td>0.095652</td>\n",
       "      <td>-0.020627</td>\n",
       "      <td>3.915</td>\n",
       "      <td>0.038298</td>\n",
       "      <td>-2.748756</td>\n",
       "      <td>0.789421</td>\n",
       "    </tr>\n",
       "    <tr>\n",
       "      <th>14853</th>\n",
       "      <td>1.039278</td>\n",
       "      <td>1.049772</td>\n",
       "      <td>48.012719</td>\n",
       "      <td>0.000000</td>\n",
       "      <td>-0.039017</td>\n",
       "      <td>0.095652</td>\n",
       "      <td>-0.020627</td>\n",
       "      <td>3.915</td>\n",
       "      <td>0.038298</td>\n",
       "      <td>5.081139</td>\n",
       "      <td>5.133297</td>\n",
       "    </tr>\n",
       "  </tbody>\n",
       "</table>\n",
       "<p>14854 rows × 11 columns</p>\n",
       "</div>"
      ],
      "text/plain": [
       "       MA Ratio    Result        ROE  Insider Ownership Growth  \\\n",
       "0      0.961995  1.223647   6.913148                  0.100796   \n",
       "1      1.066554  1.034318   6.913148                  0.095491   \n",
       "2      1.046990  0.826977   6.913148                 -0.012048   \n",
       "3      1.020680  0.915522  22.637014                  0.000000   \n",
       "4      0.983734  0.897937  22.637014                  0.007317   \n",
       "...         ...       ...        ...                       ...   \n",
       "14849  0.988689  1.136043  44.337194                  0.015625   \n",
       "14850  1.050920  1.049746  44.337194                  0.000000   \n",
       "14851  1.001497  0.974880  48.012719                  0.046154   \n",
       "14852  1.016859  1.029403  48.012719                  0.046154   \n",
       "14853  1.039278  1.049772  48.012719                  0.000000   \n",
       "\n",
       "       Institutional Ownership Growth  Forecast EPS Growth  Avg 2Q EPS Growth  \\\n",
       "0                           -0.004951            -0.098765           0.119862   \n",
       "1                            0.023857            -0.098765           0.119862   \n",
       "2                            0.025465            -0.052632           0.073613   \n",
       "3                            0.117718            -0.052632           0.073613   \n",
       "4                            0.121825            -0.052632           0.073613   \n",
       "...                               ...                  ...                ...   \n",
       "14849                        0.004154            -0.132231          -0.041288   \n",
       "14850                       -0.128752            -0.132231          -0.041288   \n",
       "14851                       -0.187616             0.095652          -0.020627   \n",
       "14852                       -0.080948             0.095652          -0.020627   \n",
       "14853                       -0.039017             0.095652          -0.020627   \n",
       "\n",
       "       Avg 2Q EPS Surprise  YoY EPS Growth  Sector Performance  \\\n",
       "0                    8.440        0.177215           -3.656652   \n",
       "1                    8.440        0.177215           -4.861458   \n",
       "2                    7.045        0.156000            7.205480   \n",
       "3                    7.045        0.156000            1.791749   \n",
       "4                    7.045        0.156000           -2.805357   \n",
       "...                    ...             ...                 ...   \n",
       "14849               -1.785        0.026030            2.515130   \n",
       "14850               -1.785        0.026030           -4.031062   \n",
       "14851                3.915        0.038298           -6.645055   \n",
       "14852                3.915        0.038298           -2.748756   \n",
       "14853                3.915        0.038298            5.081139   \n",
       "\n",
       "       Market Performance  \n",
       "0               -8.854201  \n",
       "1               -3.160007  \n",
       "2               12.969931  \n",
       "3                5.414237  \n",
       "4                5.507430  \n",
       "...                   ...  \n",
       "14849           -1.243019  \n",
       "14850           -0.417651  \n",
       "14851            2.856001  \n",
       "14852            0.789421  \n",
       "14853            5.133297  \n",
       "\n",
       "[14854 rows x 11 columns]"
      ]
     },
     "execution_count": 6,
     "metadata": {},
     "output_type": "execute_result"
    }
   ],
   "source": [
    "data_cleaned = data.drop(['Ticker', 'Year', 'Month', data.columns[0]], axis=1)\n",
    "data_cleaned = data_cleaned.reset_index(drop=True)\n",
    "data_cleaned"
   ]
  },
  {
   "cell_type": "markdown",
   "id": "6c1794d7-193e-4069-8dce-895d64c7471e",
   "metadata": {},
   "source": [
    "## First attempt"
   ]
  },
  {
   "cell_type": "markdown",
   "id": "77393d35-981f-4c21-89cf-a922d7fd48a2",
   "metadata": {},
   "source": [
    "### 4. Train the model"
   ]
  },
  {
   "cell_type": "markdown",
   "id": "68d80bab-bf29-47ba-ac1a-7a6b9e9fe908",
   "metadata": {},
   "source": [
    "#### 4.1. Define targets and inputs, standarise inputs"
   ]
  },
  {
   "cell_type": "code",
   "execution_count": 7,
   "id": "2ebbd43b-a120-421d-8b57-7d20606041a9",
   "metadata": {},
   "outputs": [],
   "source": [
    "targets = data_cleaned['Result']\n",
    "inputs = data_cleaned.drop(['Result'], axis=1)\n",
    "\n",
    "scaler = StandardScaler()\n",
    "scaler.fit(inputs)\n",
    "inputs_scaled = scaler.transform(inputs)"
   ]
  },
  {
   "cell_type": "markdown",
   "id": "e91a60a0-4495-4225-be3c-02b6a674e75c",
   "metadata": {},
   "source": [
    "#### 4.2. Split the data for training and test"
   ]
  },
  {
   "cell_type": "code",
   "execution_count": 7,
   "id": "9d628fa0-cce6-4c85-8cd3-f864cde0cd27",
   "metadata": {},
   "outputs": [],
   "source": [
    "x_train, x_test, y_train, y_test = train_test_split(inputs_scaled, targets, test_size=0.2, random_state=365)"
   ]
  },
  {
   "cell_type": "markdown",
   "id": "be2195e6-aacf-49ac-915c-5d6f7f10c8ae",
   "metadata": {},
   "source": [
    "#### 4.3. Train the model"
   ]
  },
  {
   "cell_type": "code",
   "execution_count": 8,
   "id": "82bc833a-240b-480c-ba86-14cea8a01c6d",
   "metadata": {},
   "outputs": [],
   "source": [
    "rf_model = RandomForestRegressor(n_estimators=100, random_state=42)\n",
    "rf_model.fit(x_train, y_train)\n",
    "y_pred = rf_model.predict(x_test)"
   ]
  },
  {
   "cell_type": "markdown",
   "id": "8e960bd3-5e86-498c-8538-b5b2e393a0e1",
   "metadata": {},
   "source": [
    "### 5. Evaluation"
   ]
  },
  {
   "cell_type": "markdown",
   "id": "ffef536e-a1ef-40f9-a539-7e654d9896ae",
   "metadata": {},
   "source": [
    "#### 5.1. MSE & R-square"
   ]
  },
  {
   "cell_type": "code",
   "execution_count": 9,
   "id": "0d13c9a4-6081-4dc9-86c1-0d33579a9420",
   "metadata": {},
   "outputs": [
    {
     "name": "stdout",
     "output_type": "stream",
     "text": [
      "Mean Squared Error: 0.015183873340323242\n",
      "R2 Score: 0.30980151295894887\n"
     ]
    }
   ],
   "source": [
    "mse = mean_squared_error(y_test, y_pred)\n",
    "r2 = r2_score(y_test, y_pred)\n",
    "print(f\"Mean Squared Error: {mse}\")\n",
    "print(f\"R2 Score: {r2}\")"
   ]
  },
  {
   "cell_type": "markdown",
   "id": "afc3b39c-bb4b-4c7a-89e8-9c566e9558f8",
   "metadata": {},
   "source": [
    "#### 5.2. Features importance"
   ]
  },
  {
   "cell_type": "code",
   "execution_count": 10,
   "id": "56679b67-31fa-4f15-b4b3-052c968107fd",
   "metadata": {},
   "outputs": [
    {
     "name": "stdout",
     "output_type": "stream",
     "text": [
      "MA Ratio: 0.1044817972686704\n",
      "ROE: 0.07933478567604417\n",
      "Insider Ownership Growth: 0.06422377424508212\n",
      "Institutional Ownership Growth: 0.09151581147138213\n",
      "Forecast EPS Growth: 0.07622701228941019\n",
      "Avg 2Q EPS Growth: 0.07977401502888166\n",
      "Avg 2Q EPS Surprise: 0.07656931787217257\n",
      "YoY EPS Growth: 0.11701589123570902\n",
      "Sector Performance: 0.08974743558648393\n",
      "Market Performance: 0.22111015932616382\n"
     ]
    }
   ],
   "source": [
    "feature_importance = rf_model.feature_importances_\n",
    "for feature, importance in zip(inputs.columns, feature_importance):\n",
    "    print(f\"{feature}: {importance}\")"
   ]
  },
  {
   "cell_type": "markdown",
   "id": "d21599b8-a5c1-46c3-99df-aa714b59bf74",
   "metadata": {},
   "source": [
    "#### 5.3. Model accuracy visualisation"
   ]
  },
  {
   "cell_type": "code",
   "execution_count": 11,
   "id": "1d1330c7-4af2-4e43-a328-7c7109b0556e",
   "metadata": {},
   "outputs": [
    {
     "data": {
      "image/png": "[encoded data removed]",
      "text/plain": [
       "<Figure size 1000x600 with 1 Axes>"
      ]
     },
     "metadata": {},
     "output_type": "display_data"
    }
   ],
   "source": [
    "plt.figure(figsize=(10, 6))\n",
    "plt.scatter(y_test, rf_model.predict(x_test))\n",
    "plt.plot([y_test.min(), y_test.max()], [y_test.min(), y_test.max()], 'r--', lw=2)\n",
    "plt.xlabel('Actual Values')\n",
    "plt.ylabel('Predicted Values')\n",
    "plt.title('Actual vs Predicted Values')\n",
    "plt.show()"
   ]
  },
  {
   "cell_type": "markdown",
   "id": "468d5b0f-ebed-4310-a5ee-e6b0c2f50416",
   "metadata": {
    "jp-MarkdownHeadingCollapsed": true
   },
   "source": [
    "### 6. Conclusion\n",
    "The random forest regression model produced the following results:\n",
    "- Mean Squared Error (MSE): 0.0152\n",
    "- R² Score: 0.3098\n",
    "\n",
    "These metrics indicate that the model performs better than the linear regression model, as evidenced by a higher R² score. R² score higher than 0.3 in stock prices prediction is considered high. Unfortunately, I suspect that there has been overfitting to the 'Market Performance' variable.\n",
    "\n",
    "##### Concerns about Overfitting\n",
    "The high importance of the Market Performance features raises concerns about potential overfitting. Specifically, the model might have learned to exploit short-term patterns, such as the market crash during March 2020 due to the COVID-19 pandemic, where the market dropped by over 20% but quickly rebounded. Given that the dataset spans from 2018 to 2023, this was the only two-month period where the S&P 500 experienced such a significant drop. The model may have learned that when the Market Performance metric is below -20%, stock prices are likely to increase sharply afterward.\n",
    "\n",
    "#### Addressing Overfitting\n",
    "To address this potential overfitting, I think the best approach is to split the data for training and testing based on time rather than randomly. For instance, using data after 2022 exclusively for testing could help ensure the model's generalizability over time. By implementing this, the model's performance can be better evaluated for its robustness and its ability to generalize beyond the specific market conditions observed during the training period."
   ]
  },
  {
   "cell_type": "markdown",
   "id": "f82b1c7c-c2fd-4a4b-9d73-4b54ac67e761",
   "metadata": {},
   "source": [
    "## Second attempt\n",
    "In this attempt, I will rerun the random forest regression, but this time I will split the data into training and testing sets based on time rather than randomly. If the R-squared value remains high, it will confirm that the model performs well across different time periods and that overfitting has not occurred."
   ]
  },
  {
   "cell_type": "markdown",
   "id": "6e954b3d-d7e4-48d3-b806-d13485a40668",
   "metadata": {},
   "source": [
    "### 4. Preprocess the data"
   ]
  },
  {
   "cell_type": "markdown",
   "id": "b3b27c3d-34ae-46ee-a036-057b33cd1ae2",
   "metadata": {},
   "source": [
    "#### 4.1. Split the data for training and test"
   ]
  },
  {
   "cell_type": "code",
   "execution_count": 31,
   "id": "8d67d6f4-4ff9-4691-a06a-9b15a08c03c3",
   "metadata": {},
   "outputs": [],
   "source": [
    "data_copy = data.reset_index(drop=True)\n",
    "train_data = data_copy[data_copy['Year'] < 2023]\n",
    "test_data = data_copy[data_copy['Year'] >= 2023]"
   ]
  },
  {
   "cell_type": "markdown",
   "id": "52ceb177-0bbe-45dc-87f0-c9a4ee82151a",
   "metadata": {},
   "source": [
    "#### 4.2. Clean the data"
   ]
  },
  {
   "cell_type": "code",
   "execution_count": 32,
   "id": "877e2724-5f7d-4da2-a18c-082f8ae626c2",
   "metadata": {},
   "outputs": [],
   "source": [
    "x_training = train_data.drop(['Year', 'Result', 'Month', 'Ticker', data.columns[0]], axis=1)\n",
    "y_training = train_data['Result']\n",
    "x_testing = test_data.drop(['Year', 'Result', 'Month', 'Ticker', data.columns[0]], axis=1)\n",
    "y_testing = test_data['Result']"
   ]
  },
  {
   "cell_type": "markdown",
   "id": "d29fdaea-57e4-4282-87ea-cfe7ab66def8",
   "metadata": {},
   "source": [
    "#### 4.3. Standarise inputs"
   ]
  },
  {
   "cell_type": "code",
   "execution_count": 33,
   "id": "681577b9-8484-4931-b96a-e6d912e34b2e",
   "metadata": {},
   "outputs": [],
   "source": [
    "scaler = StandardScaler()\n",
    "scaler.fit(x_training)\n",
    "x_training = scaler.transform(x_training)\n",
    "\n",
    "scaler.fit(x_testing)\n",
    "x_testing = scaler.transform(x_testing)"
   ]
  },
  {
   "cell_type": "markdown",
   "id": "0335cf94-7393-4932-ac13-72e06f41d168",
   "metadata": {},
   "source": [
    "### 5. Train the model"
   ]
  },
  {
   "cell_type": "code",
   "execution_count": 34,
   "id": "6e967594-7d69-46bc-87b2-ae0f4b402ab2",
   "metadata": {},
   "outputs": [],
   "source": [
    "rf_model = RandomForestRegressor(n_estimators=500, random_state=42)\n",
    "rf_model.fit(x_training, y_training)\n",
    "y_pred = rf_model.predict(x_testing)"
   ]
  },
  {
   "cell_type": "markdown",
   "id": "19ab6532-6297-4c7c-94ce-14289c11ec97",
   "metadata": {},
   "source": [
    "### 6. Evaluation"
   ]
  },
  {
   "cell_type": "code",
   "execution_count": 35,
   "id": "aef4d944-a041-4643-b2f9-d6189538a040",
   "metadata": {},
   "outputs": [
    {
     "name": "stdout",
     "output_type": "stream",
     "text": [
      "Mean Squared Error: 0.025586279644326644\n",
      "R2 Score: -0.14141388937472388\n"
     ]
    }
   ],
   "source": [
    "mse = mean_squared_error(y_testing, y_pred)\n",
    "r2 = r2_score(y_testing, y_pred)\n",
    "print(f\"Mean Squared Error: {mse}\")\n",
    "print(f\"R2 Score: {r2}\")"
   ]
  },
  {
   "cell_type": "markdown",
   "id": "e837320c-e078-4d55-b801-20c4f896f8b9",
   "metadata": {},
   "source": [
    "### 7. Conclusion\n",
    "In this attempt to train the random forest model, where the data was split based on time rather than randomly, the results were as follows:\n",
    "- Mean Squared Error (MSE): 0.0256\n",
    "- R² Score: -0.1414\n",
    "\n",
    "The negative R² score indicates that the model is performing worse than a simple mean prediction, suggesting that it struggles to generalize across different time periods.\n",
    "\n",
    "The poor performance of the model likely stems from the limited time span of the dataset, which only covers one recession (in 2022). This single recessionary period does not provide sufficient variability for the model to learn patterns that generalize well over time. As a result, the model may be overfitting to the specific conditions of that period rather than capturing broader trends.\n",
    "\n",
    "To improve the model's performance, it might be necessary to extend the dataset to cover a longer time frame that includes multiple economic cycles. This would provide the model with more diverse data, allowing it to learn patterns that are more representative of various market conditions."
   ]
  }
 ],
 "metadata": {
  "kernelspec": {
   "display_name": "Python 3 (ipykernel)",
   "language": "python",
   "name": "python3"
  },
  "language_info": {
   "codemirror_mode": {
    "name": "ipython",
    "version": 3
   },
   "file_extension": ".py",
   "mimetype": "text/x-python",
   "name": "python",
   "nbconvert_exporter": "python",
   "pygments_lexer": "ipython3",
   "version": "3.12.4"
  }
 },
 "nbformat": 4,
 "nbformat_minor": 5
}
