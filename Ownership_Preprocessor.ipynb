{
 "cells": [
  {
   "cell_type": "markdown",
   "id": "415ad6bc-3575-4249-9e92-d0bccf78a789",
   "metadata": {},
   "source": [
    "# Ownership growth preprocessor\n",
    "The programm preprocesses US stocks ownership data. It calculates both insider and institutional ownership growth (%) over a specified time period.\n",
    "\n",
    "Data from gurufocus.com"
   ]
  },
  {
   "cell_type": "markdown",
   "id": "72b5fafe-8ac5-4387-970f-1732389c1905",
   "metadata": {},
   "source": [
    "### 1. Imports"
   ]
  },
  {
   "cell_type": "code",
   "execution_count": 16,
   "id": "292beb2e-73c9-486b-967f-7339c8cb5f78",
   "metadata": {},
   "outputs": [],
   "source": [
    "import pandas as pd"
   ]
  },
  {
   "cell_type": "markdown",
   "id": "e0644fa0-1120-4c5a-a103-932acc63ff8e",
   "metadata": {},
   "source": [
    "### 2. Main function"
   ]
  },
  {
   "cell_type": "code",
   "execution_count": 14,
   "id": "8ce515fe-4bb9-40cf-b47d-6eae7dee9596",
   "metadata": {},
   "outputs": [],
   "source": [
    "def calculate_ownership_growth(inst_ownrshp_filename, insdr_ownrshp_filename, period_length):\n",
    "    inst_ownrshp_data = pd.read_csv(inst_ownrshp_filename)\n",
    "    insdr_ownrshp_data = pd.read_csv(insdr_ownrshp_filename)\n",
    "    \n",
    "    print(f\"Number of rows for institutional ownership: {len(inst_ownrshp_data)}\")\n",
    "    print(f\"Number of rows for insider ownership: {len(insdr_ownrshp_data)}\")\n",
    "\n",
    "    # Merge the data by ticker and date\n",
    "    merged_data = pd.merge(inst_ownrshp_data, insdr_ownrshp_data, \n",
    "                       left_on=['symbol', 'inst_ownrshp_date'],\n",
    "                       right_on=['symbol', 'insdr_ownrshp_date'])\n",
    "    print(f\"Number of rows after merge: {len(merged_data)}\")\n",
    "    \n",
    "    merged_data['date'] = pd.to_datetime(merged_data['inst_ownrshp_date'])\n",
    "    merged_data['Year'] = merged_data['date'].dt.year\n",
    "    merged_data['Month'] = merged_data['date'].dt.month\n",
    "    merged_data = merged_data.sort_values(['symbol', 'date'])\n",
    "\n",
    "    # Calculate ownership growth\n",
    "    merged_data['Insider_growth'] = merged_data.groupby('symbol')['insdr_ownrshp'].pct_change(periods=period_length)\n",
    "    merged_data['Institutional_growth'] = merged_data.groupby('symbol')['inst_ownrshp'].pct_change(periods=period_length)\n",
    "    # Shift the data by one month to reflect when the ownership data was actually publicly available\n",
    "    merged_data['Insider_growth'] = merged_data.groupby('symbol')['Insider_growth'].shift(1)\n",
    "    merged_data['Institutional_growth'] = merged_data.groupby('symbol')['Institutional_growth'].shift(1)\n",
    "    \n",
    "    result_data = merged_data[['symbol', 'Year', 'Month', 'Insider_growth', 'Institutional_growth']].rename(columns={'symbol': 'Ticker'})\n",
    "    result_data = result_data.dropna() \n",
    "    print(f\"Final number of rows: {len(result_data)}\")\n",
    "\n",
    "    return result_data    "
   ]
  },
  {
   "cell_type": "markdown",
   "id": "fc9f8884-2bfd-442e-a9f2-75312471d358",
   "metadata": {},
   "source": [
    "### 3. Data and programm execution"
   ]
  },
  {
   "cell_type": "code",
   "execution_count": 15,
   "id": "b9ad6dde-fb2f-4064-bcbc-9a49edd5204c",
   "metadata": {},
   "outputs": [
    {
     "name": "stdout",
     "output_type": "stream",
     "text": [
      "Number of rows for institutional ownership: 233\n",
      "Number of rows for insider ownership: 239\n",
      "Number of rows after merge: 227\n",
      "    symbol inst_ownrshp_date  inst_ownrshp  inst_ownrshp_pct  \\\n",
      "0     AAPL        2024-05-31       5530.18             36.06   \n",
      "1     AAPL        2024-04-30       5482.57             35.75   \n",
      "2     AAPL        2024-03-31       5471.89             35.68   \n",
      "3     AAPL        2024-02-29       5490.11             35.55   \n",
      "4     AAPL        2024-01-31       5489.88             35.55   \n",
      "..     ...               ...           ...               ...   \n",
      "222   AAPL        2005-05-31        234.38              4.06   \n",
      "223   AAPL        2005-04-30        227.94              3.95   \n",
      "224   AAPL        2005-03-31        216.34              3.75   \n",
      "225   AAPL        2005-02-28        103.35              1.81   \n",
      "226   AAPL        2005-01-31         47.56              0.83   \n",
      "\n",
      "    insdr_ownrshp_date  insdr_ownrshp  insdr_ownrshp_pct  \n",
      "0           2024-05-31          16.88               0.11  \n",
      "1           2024-04-30          16.88               0.11  \n",
      "2           2024-03-31          16.88               0.11  \n",
      "3           2024-02-29          16.98               0.11  \n",
      "4           2024-01-31          16.96               0.11  \n",
      "..                 ...            ...                ...  \n",
      "222         2005-05-31          10.40               1.26  \n",
      "223         2005-04-30          10.40               1.26  \n",
      "224         2005-03-31          10.40               1.26  \n",
      "225         2005-02-28          10.40               1.27  \n",
      "226         2005-01-31          20.80               1.27  \n",
      "\n",
      "[227 rows x 7 columns]\n",
      "Final number of rows: 224\n"
     ]
    }
   ],
   "source": [
    "inst_ownrshp_filename = 'datasets/inst_ownership.csv'\n",
    "insdr_ownrshp_filename = 'datasets/insdr_ownership.csv'\n",
    "period_length = 2 # 2 months\n",
    "output_filename = 'datasets/ownership_growth.csv'\n",
    "\n",
    "ownership_growth_data = calculate_ownership_growth(inst_ownrshp_filename, insdr_ownrshp_filename, period_length)\n",
    "ownership_growth_data.to_csv(output_filename, index=False)"
   ]
  },
  {
   "cell_type": "code",
   "execution_count": null,
   "id": "901b5a4b-49ad-4e4e-86c6-2db986ec9fc5",
   "metadata": {},
   "outputs": [],
   "source": []
  }
 ],
 "metadata": {
  "kernelspec": {
   "display_name": "Python 3 (ipykernel)",
   "language": "python",
   "name": "python3"
  },
  "language_info": {
   "codemirror_mode": {
    "name": "ipython",
    "version": 3
   },
   "file_extension": ".py",
   "mimetype": "text/x-python",
   "name": "python",
   "nbconvert_exporter": "python",
   "pygments_lexer": "ipython3",
   "version": "3.12.4"
  }
 },
 "nbformat": 4,
 "nbformat_minor": 5
}
