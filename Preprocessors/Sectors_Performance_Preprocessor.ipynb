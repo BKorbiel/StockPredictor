{
 "cells": [
  {
   "cell_type": "markdown",
   "id": "1911751c-3f32-4f6e-a43c-d8904347313f",
   "metadata": {},
   "source": [
    "# Sectors performance preprocessor\n",
    "The programm preprocesses main US sectors data. IT calculates the performance (%) of sectors over a given interval (number of rows) for each sector and for each month within a given range of years.\n",
    "\n",
    "The program assumes that the data is stored in appropriate CSV files for every sector in the following format: { Date (M/D/Y), Open Price } in decreasing order by date.\n",
    "The data is saved into CSV file in the following format: { Year, Month, Sector1_Performance (%), Sector2_Performance (%), Sector3_Performance (%), ...}\n",
    "\n",
    "You can download the data from investing.com. For example Technology sector: https://www.investing.com/indices/s-p-500-information-technology-historical-data"
   ]
  },
  {
   "cell_type": "markdown",
   "id": "4a8791f5-1586-449a-bcb8-b2d0df71b42e",
   "metadata": {},
   "source": [
    "### 1. Imports & helper functions"
   ]
  },
  {
   "cell_type": "code",
   "execution_count": 14,
   "id": "70ed49ae-004c-47dc-8b83-08db581e5308",
   "metadata": {},
   "outputs": [],
   "source": [
    "import csv\n",
    "from datetime import datetime, date\n",
    "\n",
    "def calculate_performance(prev_price, curr_price):\n",
    "    if prev_price and curr_price:\n",
    "        prev_price = float(prev_price.replace(',', ''))\n",
    "        curr_price = float(curr_price.replace(',', ''))\n",
    "        \n",
    "        return (curr_price - prev_price) * 100 / prev_price;\n",
    "    return ''\n",
    "\n",
    "def parse_date(date_string):\n",
    "    return datetime.strptime(date_string, '%m/%d/%Y')"
   ]
  },
  {
   "cell_type": "markdown",
   "id": "393977f3-2303-4cf4-bfbe-7b0daba3e2a9",
   "metadata": {},
   "source": [
    "### 2. Main function"
   ]
  },
  {
   "cell_type": "code",
   "execution_count": 15,
   "id": "ce8de620-af6e-4748-bc72-42e132b22555",
   "metadata": {},
   "outputs": [],
   "source": [
    "# sectors_data - dictionary with a following structure: {sector_name: sector_data_csv_filename }\n",
    "# outpute_file - filename for output\n",
    "# start_year, end_year - range of years to save the data for\n",
    "# period_length - The number of rows between which the performance is to be measured\n",
    "def process_csv_files(sectors_data, output_file, start_year, end_year, period_length):\n",
    "    with open(output_file, 'w', newline='') as outfile:\n",
    "        writer = csv.writer(outfile)\n",
    "\n",
    "        #every sector is a column\n",
    "        header = ['Sector', 'Year', 'Month', 'Performance']\n",
    "        writer.writerow(header)\n",
    "\n",
    "        data = {year: {month: {sector: '' for sector in sectors_data.keys()} for month in range(1, 13)} for year in range(start_year, end_year + 1)}\n",
    "                        \n",
    "        for sector, filename in sectors_data.items():\n",
    "            print(f\"Calculating performance for {sector}\")\n",
    "            with open(filename, 'r', encoding='utf-8-sig') as infile:\n",
    "                reader = csv.DictReader(infile)\n",
    "                rows = list(reader)\n",
    "                rows.reverse()\n",
    "                \n",
    "                for i in range(period_length, len(rows)):\n",
    "                    row = rows[i]\n",
    "                    current_date = parse_date(row['Date'])\n",
    "                    if start_year <= current_date.year <= end_year:\n",
    "                        previous_price = rows[i - period_length]['Open']\n",
    "                        current_price = row['Open']\n",
    "                        \n",
    "                        performance = calculate_performance(previous_price, current_price)\n",
    "                        data[current_date.year][current_date.month][sector] = performance\n",
    "\n",
    "        #save data to output file\n",
    "        for sector in sectors_data.keys():\n",
    "            for year in range(end_year, start_year - 1, -1): \n",
    "                for month in range(12, 0, -1):\n",
    "                    row = [sector, year, month] + [data[year][month][sector]]\n",
    "                    writer.writerow(row)"
   ]
  },
  {
   "cell_type": "markdown",
   "id": "3913f288-a285-4271-a761-147da7107557",
   "metadata": {},
   "source": [
    "### 3. Data and programm execution"
   ]
  },
  {
   "cell_type": "code",
   "execution_count": 16,
   "id": "4da9dea6-c7c0-4512-85e2-279e8be113bf",
   "metadata": {},
   "outputs": [
    {
     "name": "stdout",
     "output_type": "stream",
     "text": [
      "Calculating performance for SP500\n",
      "Calculating performance for Industrials\n",
      "Calculating performance for Technology\n",
      "Calculating performance for Real Estate\n",
      "Calculating performance for Utilities\n",
      "Calculating performance for Consumer Cyclical\n",
      "Calculating performance for Consumer Defensive\n",
      "Calculating performance for Energy\n",
      "Calculating performance for Financial Services\n",
      "Calculating performance for Healthcare\n",
      "Calculating performance for Business Services\n",
      "Calculating performance for Basic Materials\n"
     ]
    }
   ],
   "source": [
    "sectors_data = {\n",
    "    \"SP500\": '../datasets/S&P 500 Historical Data.csv',\n",
    "    \"Industrials\": '../datasets/S&P 500 Industrials Historical Data.csv',\n",
    "    \"Technology\": '../datasets/S&P 500 Information Technology Historical Data.csv',\n",
    "    \"Real Estate\": '../datasets/S&P 500 Real Estate Historical Data.csv',\n",
    "    \"Utilities\": '../datasets/S&P 500 Utilities Historical Data.csv',\n",
    "    \"Consumer Cyclical\": '../datasets/S&P 500 Consumer Discretionary Historical Data.csv',\n",
    "    \"Consumer Defensive\": '../datasets/S&P 500 Consumer Staples Historical Data.csv',\n",
    "    \"Energy\": '../datasets/S&P 500 Energy Historical Data.csv',\n",
    "    \"Financial Services\": '../datasets/S&P 500 Financials Historical Data.csv',\n",
    "    \"Healthcare\": '../datasets/S&P 500 Health Care Historical Data.csv',\n",
    "    \"Business Services\": '../datasets/Dow Jones Business Support Services Historical Data.csv',\n",
    "    \"Basic Materials\": '../datasets/Dow Jones Basic Materials Historical Data.csv'\n",
    "}\n",
    "output_filename = '../datasets/Sectors_2Months_performance.csv'\n",
    "start_year = 2014\n",
    "end_year = 2024\n",
    "period_length = 2  # The number of rows between which the performance is to be measured\n",
    "process_csv_files(sectors_data, output_filename, start_year, end_year, period_length)"
   ]
  },
  {
   "cell_type": "code",
   "execution_count": null,
   "id": "23b6c0ac-84a6-49b2-9b96-0f36db25708c",
   "metadata": {},
   "outputs": [],
   "source": []
  }
 ],
 "metadata": {
  "kernelspec": {
   "display_name": "Python 3 (ipykernel)",
   "language": "python",
   "name": "python3"
  },
  "language_info": {
   "codemirror_mode": {
    "name": "ipython",
    "version": 3
   },
   "file_extension": ".py",
   "mimetype": "text/x-python",
   "name": "python",
   "nbconvert_exporter": "python",
   "pygments_lexer": "ipython3",
   "version": "3.12.4"
  }
 },
 "nbformat": 4,
 "nbformat_minor": 5
}
