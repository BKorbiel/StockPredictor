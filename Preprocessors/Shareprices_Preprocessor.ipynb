{
 "cells": [
  {
   "cell_type": "markdown",
   "id": "4ac816b0-eb33-4d20-9d46-48e3fecee39d",
   "metadata": {},
   "source": [
    "# Shareprices Preprocessor\n",
    "This programm gets daily US Shareprices as an input and calculates shareprice/20-day-ma ratio and potential return on investment if one bought shares that day and sold after three months. The data is calculated for every ticker and for every month in the specified year range.\n",
    "The shareprices data is from simfin.com"
   ]
  },
  {
   "cell_type": "markdown",
   "id": "0b10ec1e-8db2-4879-b3bb-0b11ef8720cd",
   "metadata": {},
   "source": [
    "### 1. Imports and helper function"
   ]
  },
  {
   "cell_type": "code",
   "execution_count": 16,
   "id": "79c3cbe5-a6a6-4896-b4d2-2cb412b8e772",
   "metadata": {},
   "outputs": [],
   "source": [
    "import pandas as pd\n",
    "import numpy as np\n",
    "\n",
    "def investment_close_date(open_date):\n",
    "    month = open_date + pd.offsets.MonthBegin(2)\n",
    "    return month + pd.offsets.MonthEnd(1)"
   ]
  },
  {
   "cell_type": "markdown",
   "id": "7713f6b3-624b-4d42-9010-619d903bc267",
   "metadata": {},
   "source": [
    "### 2. Main function"
   ]
  },
  {
   "cell_type": "code",
   "execution_count": 37,
   "id": "b93b970b-4c01-4a3d-9967-c706829eae13",
   "metadata": {},
   "outputs": [],
   "source": [
    "def calculate_shareprices_data(shareprices_filename, start_year, end_year):\n",
    "    df = pd.read_csv(shareprices_filename, sep=';', encoding='utf-8-sig')\n",
    "    df['Date'] = pd.to_datetime(df['Date'])\n",
    "    \n",
    "    df = df[(df['Date'] >= f'{start_year - 1}-12-01') & (df['Date'] < f'{end_year}-12-31')]\n",
    "\n",
    "    result = []\n",
    "    \n",
    "    for ticker, ticker_group in df.groupby('Ticker'):\n",
    "        ticker_group['MA 20'] = ticker_group['Adj. Close'].rolling(window=20).mean()\n",
    "        \n",
    "        for month, month_group in ticker_group.groupby(ticker_group['Date'].dt.to_period('M')):\n",
    "            # First day of the month\n",
    "            first_day = month_group.loc[month_group['Date'].idxmin()]\n",
    "            \n",
    "            # Getting share price after 3 months\n",
    "            close_date = investment_close_date(first_day['Date'])\n",
    "            # Day range for closing the investment is set as (close_date - 15 days) to close_date.\n",
    "            # This is done to avoid a situation where, due to missing data, the investment would be \"closed\" very quickly, for example, after a week.\n",
    "            min_close_day = close_date - pd.Timedelta(days=15)\n",
    "            mask = (ticker_group['Date'] >= min_close_day) & (ticker_group['Date'] <= close_date)\n",
    "            close_range = ticker_group[mask]\n",
    "            if not close_range.empty:\n",
    "                investment_close = close_range.iloc[-1]['Adj. Close']\n",
    "            else:\n",
    "                investment_close = np.nan\n",
    "            \n",
    "            ma_20 = first_day['MA 20']\n",
    "            ma_ratio = first_day['Adj. Close'] / ma_20 if ma_20 != 0 else np.nan\n",
    "            return_on_investment = investment_close / first_day['Adj. Close'] if first_day['Adj. Close'] != 0 else np.nan\n",
    "            \n",
    "            result.append({\n",
    "                'Ticker': ticker,\n",
    "                'Year': first_day['Date'].year,\n",
    "                'Month': first_day['Date'].month,\n",
    "                'MA Ratio': ma_ratio,\n",
    "                'Return on Investment': return_on_investment\n",
    "            })\n",
    "    \n",
    "    result_df = pd.DataFrame(result)\n",
    "    result_df = result_df.dropna()\n",
    "        \n",
    "    print(result_df.head())\n",
    "\n",
    "    return result_df"
   ]
  },
  {
   "cell_type": "markdown",
   "id": "4a359b75-9a8a-46d4-af6a-0d7b9baec8e2",
   "metadata": {},
   "source": [
    "### 3. Data and programm execution"
   ]
  },
  {
   "cell_type": "code",
   "execution_count": 38,
   "id": "1459410e-6da3-4fd6-b61b-fb330d2c103d",
   "metadata": {},
   "outputs": [
    {
     "name": "stdout",
     "output_type": "stream",
     "text": [
      "  Ticker  Year  Month  MA Ratio  Return on Investment\n",
      "2      A  2018     11  0.998181              1.169091\n",
      "3      A  2018     12  1.104618              1.066583\n",
      "4      A  2019      1  0.961995              1.223647\n",
      "5      A  2019      2  1.066554              1.034318\n",
      "6      A  2019      3  1.046990              0.826977\n"
     ]
    }
   ],
   "source": [
    "shareprices_filename = '../datasets/us-shareprices-daily.csv'\n",
    "start_year = 2018\n",
    "end_year = 2024\n",
    "output_filename = '../datasets/shareprices_data.csv'\n",
    "\n",
    "result = calculate_shareprices_data(shareprices_filename, start_year, end_year)\n",
    "result.to_csv(output_filename, index=False)"
   ]
  },
  {
   "cell_type": "code",
   "execution_count": null,
   "id": "ed9b452e-1939-4c74-aca1-6e3e33b20001",
   "metadata": {},
   "outputs": [],
   "source": []
  }
 ],
 "metadata": {
  "kernelspec": {
   "display_name": "Python 3 (ipykernel)",
   "language": "python",
   "name": "python3"
  },
  "language_info": {
   "codemirror_mode": {
    "name": "ipython",
    "version": 3
   },
   "file_extension": ".py",
   "mimetype": "text/x-python",
   "name": "python",
   "nbconvert_exporter": "python",
   "pygments_lexer": "ipython3",
   "version": "3.12.4"
  }
 },
 "nbformat": 4,
 "nbformat_minor": 5
}
