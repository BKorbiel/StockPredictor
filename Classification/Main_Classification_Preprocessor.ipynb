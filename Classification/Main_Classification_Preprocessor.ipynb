{
 "cells": [
  {
   "cell_type": "markdown",
   "id": "3187878e-42e8-40fd-96dd-f151c377cfaa",
   "metadata": {},
   "source": [
    "# Main Preprocessor\n",
    "This is main data preprocessor for classification. The programm merges all the data. The assumption is that all the other data preprocessors were already executed.\n",
    "Criteria for stocks to be classified as Buy are:\n",
    "- beating SP500 index\n",
    "- at least 2% Return on Investment"
   ]
  },
  {
   "cell_type": "markdown",
   "id": "4079e566-3ca9-4c3b-8d08-f0c8aa3bba69",
   "metadata": {},
   "source": [
    "### 1. Imports"
   ]
  },
  {
   "cell_type": "code",
   "execution_count": 1,
   "id": "0461efed-dd25-47d6-8dfd-e24ae6154219",
   "metadata": {},
   "outputs": [],
   "source": [
    "import pandas as pd"
   ]
  },
  {
   "cell_type": "markdown",
   "id": "b695ee01-1dfd-47ea-9d10-0a381ed5f47c",
   "metadata": {},
   "source": [
    "### 2. Helper function\n",
    "This function calculates sp500 performance over 3 months to use it as a benchmark for classification"
   ]
  },
  {
   "cell_type": "code",
   "execution_count": 2,
   "id": "a982417c-b2b0-47e0-8017-21e142f18ec8",
   "metadata": {},
   "outputs": [],
   "source": [
    "def process_sp500_data(sp500_data_filename):\n",
    "    df = pd.read_csv(sp500_data_filename)\n",
    "\n",
    "    df['Date'] = pd.to_datetime(df['Date'], format='%m/%d/%Y')\n",
    "    df.set_index('Date', inplace=True)\n",
    "    df.sort_index(inplace=True)\n",
    "    \n",
    "    df['Open'] = df['Open'].str.replace(',', '').astype(float)\n",
    "    df['3M_market_performance'] = (df['Open'].shift(-3) - df['Open']) / df['Open']\n",
    "    df['Month'] = df.index.month\n",
    "    df['Year'] = df.index.year\n",
    "\n",
    "    df = df.dropna(subset=['3M_market_performance'])\n",
    "    return df"
   ]
  },
  {
   "cell_type": "markdown",
   "id": "782d78dc-c497-4923-ad7f-d76b14b92815",
   "metadata": {},
   "source": [
    "### 2. Main function"
   ]
  },
  {
   "cell_type": "code",
   "execution_count": 3,
   "id": "723cd123-c158-45a8-8974-46111c3b67d7",
   "metadata": {},
   "outputs": [],
   "source": [
    "def merge_all_data(shareprices_filename, roe_filename, eps_filename, ownrshp_filename, companies_filename, industries_filename, sectors_perf_filename, market_perf_filename):\n",
    "    shareprices_data = pd.read_csv(shareprices_filename)\n",
    "    print(f\"Number of rows for shareprices data: {len(shareprices_data)}\")\n",
    "\n",
    "    # Merge shareprices with ROE\n",
    "    roe = pd.read_csv(roe_filename)\n",
    "    print(f\"Number of rows for ROE data: {len(roe)}\")\n",
    "    result = shareprices_data.merge(roe, on=['Ticker', 'Year', 'Month'], how='inner')\n",
    "\n",
    "    # Merge with ownership growth data\n",
    "    ownership_growth = pd.read_csv(ownrshp_filename)\n",
    "    print(f\"Number of rows for ownership growth data: {len(ownership_growth)}\")\n",
    "    result = result.merge(ownership_growth, on=['Ticker', 'Year', 'Month'], how='inner')\n",
    "\n",
    "    # Merge with eps growth data\n",
    "    eps_growth = pd.read_csv(eps_filename)\n",
    "    print(f\"Number of rows for EPS growth data: {len(eps_growth)}\")\n",
    "    result = result.merge(eps_growth, on=['Ticker', 'Year', 'Month'], how='inner')\n",
    "\n",
    "    # Get sector for every ticker\n",
    "    us_companies = pd.read_csv(companies_filename, sep=';', encoding='utf-8-sig')\n",
    "    industries = pd.read_csv(industries_filename, sep=';', encoding='utf-8-sig')\n",
    "    us_companies = us_companies.merge(industries, on='IndustryId')\n",
    "    sectors_perf = pd.read_csv(sectors_perf_filename)\n",
    "    us_companies = us_companies.merge(sectors_perf, on='Sector', how='inner')\n",
    "\n",
    "    # Get market (SP500) performance\n",
    "    sectors_perf = sectors_perf[sectors_perf['Sector'] == 'SP500']\n",
    "    print(f\"Number of rows for Sectors Performance data: {len(sectors_perf)}\")\n",
    "    us_companies = us_companies.merge(sectors_perf, on=['Year', 'Month'], how='inner')\n",
    "\n",
    "    # Merge with sector and market performance\n",
    "    result = result.merge(us_companies, on=['Ticker', 'Year', 'Month'], how='inner')\n",
    "\n",
    "    # Get market performance over the next 3 months (as benchmark)\n",
    "    sp500_perf = process_sp500_data(market_perf_filename)\n",
    "    result = result.merge(sp500_perf, on=['Year', 'Month'], how='inner')\n",
    "    # Buy only when ROI beats benchmark and ROI is higher than 2%\n",
    "    result['Buy'] = ((result['Return on Investment'] > result['3M_market_performance']) & (result['Return on Investment'] >= 1.02)).astype(int)\n",
    "    \n",
    "    result = result[[\n",
    "        'Ticker', 'Year', 'Month', 'MA Ratio', \"Buy\", \n",
    "        'Return on Equity', 'Insider_growth', 'Institutional_growth', \n",
    "        'Forecast Growth', 'Avg 2Q Growth', 'Avg 2Q Surprise', \n",
    "        'YoY Growth', 'Performance_x', 'Performance_y']]\n",
    "\n",
    "    result = result.rename(columns={\n",
    "        'Return on Equity': 'ROE',\n",
    "        'Insider_growth': 'Insider Ownership Growth',\n",
    "        'Institutional_growth': 'Institutional Ownership Growth',\n",
    "        'Forecast Growth': 'Forecast EPS Growth',\n",
    "        'Avg 2Q Growth': 'Avg 2Q EPS Growth',\n",
    "        'Avg 2Q Surprise': 'Avg 2Q EPS Surprise',\n",
    "        'YoY Growth': 'YoY EPS Growth',\n",
    "        'Performance_x': 'Sector Performance',\n",
    "        'Performance_y': 'Market Performance'\n",
    "    })\n",
    "\n",
    "    result = result.dropna()\n",
    "    print(f\"Result number of rows: {len(result)}\")\n",
    "    return result"
   ]
  },
  {
   "cell_type": "markdown",
   "id": "f6a90276-169c-43d4-a172-de572bc310a7",
   "metadata": {},
   "source": [
    "### 3. Programm execution"
   ]
  },
  {
   "cell_type": "code",
   "execution_count": 4,
   "id": "ed1c6d06-6c98-4315-bb9b-f4b29d7a2bb9",
   "metadata": {},
   "outputs": [
    {
     "name": "stdout",
     "output_type": "stream",
     "text": [
      "Number of rows for shareprices data: 234306\n",
      "Number of rows for ROE data: 229519\n",
      "Number of rows for ownership growth data: 94044\n",
      "Number of rows for EPS growth data: 41122\n",
      "Number of rows for Sectors Performance data: 132\n",
      "Result number of rows: 14854\n",
      "  Ticker  Year  Month  MA Ratio  Buy        ROE  Insider Ownership Growth  \\\n",
      "0      A  2019      1  0.961995    1   6.913148                  0.100796   \n",
      "1      A  2019      2  1.066554    1   6.913148                  0.095491   \n",
      "2      A  2019      3  1.046990    0   6.913148                 -0.012048   \n",
      "3      A  2019      4  1.020680    0  22.637014                  0.000000   \n",
      "4      A  2019      5  0.983734    0  22.637014                  0.007317   \n",
      "\n",
      "   Institutional Ownership Growth  Forecast EPS Growth  Avg 2Q EPS Growth  \\\n",
      "0                       -0.004951            -0.098765           0.119862   \n",
      "1                        0.023857            -0.098765           0.119862   \n",
      "2                        0.025465            -0.052632           0.073613   \n",
      "3                        0.117718            -0.052632           0.073613   \n",
      "4                        0.121825            -0.052632           0.073613   \n",
      "\n",
      "   Avg 2Q EPS Surprise  YoY EPS Growth  Sector Performance  Market Performance  \n",
      "0                8.440        0.177215           -3.656652           -8.854201  \n",
      "1                8.440        0.177215           -4.861458           -3.160007  \n",
      "2                7.045        0.156000            7.205480           12.969931  \n",
      "3                7.045        0.156000            1.791749            5.414237  \n",
      "4                7.045        0.156000           -2.805357            5.507430  \n"
     ]
    }
   ],
   "source": [
    "shareprices_filename = '../datasets/shareprices_data.csv'\n",
    "roe_filename = '../datasets/ROE.csv'\n",
    "eps_filename = '../datasets/EPS_growth_data.csv'\n",
    "ownrshp_filename = '../datasets/ownership_growth.csv'\n",
    "companies_filename = '../datasets/us-companies.csv'\n",
    "industries_filename = '../datasets/industries.csv'\n",
    "sectors_perf_filename = '../datasets/Sectors_2Months_performance.csv'\n",
    "market_perf_filename = '../datasets/S&P 500 Historical Data.csv'\n",
    "\n",
    "output_filename = 'stocks_data.csv'\n",
    "\n",
    "result = merge_all_data(shareprices_filename, roe_filename, eps_filename, ownrshp_filename, companies_filename, industries_filename, sectors_perf_filename, market_perf_filename)\n",
    "print(result.head())\n",
    "result.to_csv(output_filename)"
   ]
  }
 ],
 "metadata": {
  "kernelspec": {
   "display_name": "Python 3 (ipykernel)",
   "language": "python",
   "name": "python3"
  },
  "language_info": {
   "codemirror_mode": {
    "name": "ipython",
    "version": 3
   },
   "file_extension": ".py",
   "mimetype": "text/x-python",
   "name": "python",
   "nbconvert_exporter": "python",
   "pygments_lexer": "ipython3",
   "version": "3.12.4"
  }
 },
 "nbformat": 4,
 "nbformat_minor": 5
}
