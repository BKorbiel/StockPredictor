{
 "cells": [
  {
   "cell_type": "markdown",
   "id": "415ad6bc-3575-4249-9e92-d0bccf78a789",
   "metadata": {},
   "source": [
    "# EPS preprocessor\n",
    "This program takes a CSV file as input containing quarterly EPS data of companies (date, estimated EPS, reported EPS, % surprise), and then calculates: the estimated EPS growth for the next quarter, the average EPS growth over the last two quarters, the average surprise over the last two quarters, and the YoY EPS growth (TTM current vs year ago). The data is calculated for every company and for every month in a given year period."
   ]
  },
  {
   "cell_type": "markdown",
   "id": "72b5fafe-8ac5-4387-970f-1732389c1905",
   "metadata": {},
   "source": [
    "### 1. Imports and helper function"
   ]
  },
  {
   "cell_type": "code",
   "execution_count": 6,
   "id": "292beb2e-73c9-486b-967f-7339c8cb5f78",
   "metadata": {},
   "outputs": [],
   "source": [
    "import pandas as pd\n",
    "import numpy as np\n",
    "\n",
    "def get_latest_data_index(ticker, date, grouped_data):\n",
    "    ticker_data = grouped_data[ticker]\n",
    "    report_dates = ticker_data['Date'].values\n",
    "\n",
    "    # Data is in ascending order by the report date\n",
    "    i = 0\n",
    "    n = len(ticker_data) \n",
    "    while (i < n and report_dates[i] < date ):\n",
    "        i += 1\n",
    "        \n",
    "    if i == 0:\n",
    "        return np.nan\n",
    "\n",
    "    return i - 1 # index of most recent publicly available EPS data\n"
   ]
  },
  {
   "cell_type": "markdown",
   "id": "e0644fa0-1120-4c5a-a103-932acc63ff8e",
   "metadata": {},
   "source": [
    "### 2. Main function"
   ]
  },
  {
   "cell_type": "code",
   "execution_count": 11,
   "id": "8ce515fe-4bb9-40cf-b47d-6eae7dee9596",
   "metadata": {},
   "outputs": [],
   "source": [
    "def calculate_eps_data(eps_filename, start_year, end_year):\n",
    "    eps_data = pd.read_csv(eps_filename)\n",
    "    print(f\"Number of rows for EPS: {len(eps_data)}\")\n",
    "    \n",
    "    eps_data['earnings_date'] = pd.to_datetime(eps_data['earnings_date'])\n",
    "    eps_data['eps_estimate'] = eps_data['eps_estimate'].apply(pd.to_numeric, errors='coerce')\n",
    "    eps_data['eps_reported'] = eps_data['eps_reported'].apply(pd.to_numeric, errors='coerce')\n",
    "    eps_data['eps_surprise'] = eps_data['eps_surprise'].apply(pd.to_numeric, errors='coerce')\n",
    "    eps_data = eps_data.iloc[::-1] # In increasing order by date\n",
    "\n",
    "    metrics = {} \n",
    "    for symbol, group in eps_data.groupby('symbol'):\n",
    "        df = pd.DataFrame({\n",
    "            'Date': group['earnings_date'],\n",
    "            'Forecast Growth': (group['eps_estimate'].shift(-1) - group['eps_reported']) / group['eps_reported'],\n",
    "            'Avg 2Q Growth': group['eps_reported'].pct_change(fill_method=None).rolling(window=2, min_periods=2).mean(),\n",
    "            'Avg 2Q Surprise': group['eps_surprise'].rolling(window=2, min_periods=2).mean(),\n",
    "            'YoY Growth': (group['eps_reported'].rolling(window=4, min_periods=4).sum() - group['eps_reported'].shift(4).rolling(window=4, min_periods=4).sum()) / group['eps_reported'].shift(4).rolling(window=4, min_periods=4).sum()\n",
    "        })\n",
    "        metrics[symbol] = df\n",
    "\n",
    "    # Creating dataset for every month for the given year period\n",
    "    all_months = pd.date_range(start=f'{start_year}-01-01', end=f'{end_year}-12-31', freq='MS')\n",
    "    tickers = eps_data['symbol'].unique()\n",
    "    index = pd.MultiIndex.from_product([tickers, all_months], names=['Ticker', 'Date'])\n",
    "    monthly_data = pd.DataFrame(index=index).reset_index()\n",
    "    \n",
    "    monthly_data['Year'] = monthly_data['Date'].dt.year\n",
    "    monthly_data['Month'] = monthly_data['Date'].dt.month\n",
    "    \n",
    "    for i, row in monthly_data.iterrows():\n",
    "        ticker = row['Ticker']\n",
    "        index = get_latest_data_index(ticker, row['Date'], metrics)\n",
    "        monthly_data.at[i, 'Forecast Growth'] = metrics[ticker]['Forecast Growth'].values[index] if not np.isnan(index) else np.nan\n",
    "        monthly_data.at[i, 'Avg 2Q Growth'] = metrics[ticker]['Avg 2Q Growth'].values[index] if not np.isnan(index) else np.nan\n",
    "        monthly_data.at[i, 'Avg 2Q Surprise'] = metrics[ticker]['Avg 2Q Surprise'].values[index] if not np.isnan(index) else np.nan\n",
    "        monthly_data.at[i, 'YoY Growth'] = metrics[ticker]['YoY Growth'].values[index] if not np.isnan(index) else np.nan\n",
    "        \n",
    "    monthly_data = monthly_data.dropna()\n",
    "    print(f\"Final number of rows: {len(monthly_data)}\")\n",
    "    \n",
    "    return monthly_data[['Ticker', 'Year', 'Month', 'Forecast Growth', 'Avg 2Q Growth', 'Avg 2Q Surprise', 'YoY Growth']]"
   ]
  },
  {
   "cell_type": "markdown",
   "id": "fc9f8884-2bfd-442e-a9f2-75312471d358",
   "metadata": {},
   "source": [
    "### 3. Data and programm execution"
   ]
  },
  {
   "cell_type": "code",
   "execution_count": 12,
   "id": "b9ad6dde-fb2f-4064-bcbc-9a49edd5204c",
   "metadata": {},
   "outputs": [
    {
     "name": "stdout",
     "output_type": "stream",
     "text": [
      "Number of rows for EPS: 43898\n",
      "Final number of rows: 44208\n"
     ]
    }
   ],
   "source": [
    "eps_filename = \"datasets/EPS.csv\"\n",
    "start_year = 2017\n",
    "end_year = 2024\n",
    "output_filename = 'datasets/EPS_growth_data.csv'\n",
    "\n",
    "eps_data = calculate_eps_data(eps_filename, start_year, end_year)\n",
    "eps_data.to_csv(output_filename, index=False)"
   ]
  },
  {
   "cell_type": "code",
   "execution_count": null,
   "id": "901b5a4b-49ad-4e4e-86c6-2db986ec9fc5",
   "metadata": {},
   "outputs": [],
   "source": []
  }
 ],
 "metadata": {
  "kernelspec": {
   "display_name": "Python 3 (ipykernel)",
   "language": "python",
   "name": "python3"
  },
  "language_info": {
   "codemirror_mode": {
    "name": "ipython",
    "version": 3
   },
   "file_extension": ".py",
   "mimetype": "text/x-python",
   "name": "python",
   "nbconvert_exporter": "python",
   "pygments_lexer": "ipython3",
   "version": "3.12.4"
  }
 },
 "nbformat": 4,
 "nbformat_minor": 5
}
